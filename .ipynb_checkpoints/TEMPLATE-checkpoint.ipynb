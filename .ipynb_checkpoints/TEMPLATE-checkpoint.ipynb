{
 "cells": [
  {
   "cell_type": "markdown",
   "metadata": {},
   "source": [
    "# MURCHIE85 TWITTER PROCESSING \n",
    "\n",
    "&#x1F34E; **TOPIC = \" \"**\n",
    "\n",
    "\n",
    "## AUTOMATED RESEARCH SUMMARY\n",
    "    \n",
    "\n",
    "![image]()\n",
    "\n",
    "<br></br>\n",
    "\n",
    "<div class=\"alert alert-block alert-danger\"><b> This repo is for pulling metrics on a given keyword or hashtag and performs a series of reporting and analysis.</b>\n",
    "</div>\n",
    "\n",
    "<br>\n",
    "\n",
    "   \n",
    "![image](TWEETS.png)\n",
    "\n",
    "<br></br>\n",
    "\n",
    "|                ** Sample-Tweets  **        |\n",
    "| :-------------: |\n",
    "| <div class=\"alert alert-block alert-warning\"></div>  <div class=\"alert alert-block alert-success\"></div> <div class=\"alert alert-block alert-info\"></div>     | \n",
    "\n",
    "<br></br>\n",
    "\n",
    "\n",
    "\n",
    "\n",
    "## GOOGLE SEARCH DEMOGRAPHICS \n",
    "\n",
    "Tweeting demographic           | Countries\n",
    ":-------------------------:|:-------------------------:\n",
    "![](maps.png)  |  ![](gcompare.png)\n",
    "<br>\n",
    "\n",
    "\n",
    "\n",
    "## RELATED TOPICS  & QUERIES \n",
    "\n",
    "topics          | searches\n",
    ":-------------------------:|:-------------------------:\n",
    "![](topic.png)  |  ![](query.png)\n",
    "\n",
    "\n",
    "<br>\n",
    "<br>\n",
    "\n",
    "\n",
    "\n",
    "\n",
    "## RELATED METRICS\n",
    "<br>\n",
    "\n",
    "\n",
    "\n",
    "| Metric | Value |\n",
    "| ------------- | ------------- |\n",
    "| #1 Most tweeted to  | **x** |\n",
    "| #2 Most tweeted to  | **y**|\n",
    "| #3 Most tweeted to  | **z** |\n",
    "| NewProfiles (less than 10 days) | %  |\n",
    "| Tweeters with < 100 followers  | %|\n",
    "| Tweeters with > 100k followers  | %  |\n",
    "\n",
    "\n",
    "\n",
    "<br>\n",
    "\n",
    "## MOST POPULAR TWEET TERMS \n",
    "\n",
    "\n",
    "\n",
    "\n",
    "| Popularity Rank  | Term |\n",
    "| ------------- | ------------- |\n",
    "| first  | ****  |\n",
    "| second  | ****  |\n",
    "| third  | **** |\n",
    "| fourth  | ****  |\n",
    "| fifth  | ****  |\n",
    "\n",
    "\n",
    "\n",
    "<br>\n",
    "\n",
    "![image](comparetweets.png)\n",
    "\n",
    "\n",
    "## Twitter Bio Analysis\n",
    "\n",
    "![image](BIO.png)\n",
    "\n",
    "\n",
    "\n",
    "\n",
    "\n",
    "\n",
    "\n",
    "\n",
    "\n",
    "\n",
    "    \n",
    "### SENTIMENT ANALYSIS\n",
    "VIEWS WERE : **SUBJECTIVE**  (%) & **NEGATIVELY-SUBJECTIVE** (%) **OBJECTIVE** (%)\n",
    "\n",
    "\n",
    "\n",
    "### TWEET SAMPLE \n",
    "\n",
    "Random value picked from array: \n",
    "\n",
    "\n",
    "<div class=\"alert alert-block alert-info\"> </div>\n",
    "\n",
    "### MOST RETWEETED\n",
    "\n",
    "Technically the most popular tweet (note, this is not always the source of the hashtag)\n",
    "\n",
    "<div class=\"alert alert-block alert-danger\"> </div>\n",
    "\n",
    "### CONCLUSION & EXTERNAL ANALYSIS\n",
    "\n",
    "*This is my (Adam McMurchie's) opinion on the data from the tweets, it serves as no objective truth.Since the tweets themselves are a mixture of fact & opinion. \n",
    "\n",
    "<br>\n",
    "\n",
    "WILL BE UPDATED IN NEXT  24 HOURS \n",
    "\n",
    "\n",
    "<br><br>\n",
    "\n",
    "**RECOMMENDATIONS** WILL BE UPDATED IN NEXT  24 HOURS \n",
    "\n",
    "\n",
    "<br>"
   ]
  },
  {
   "cell_type": "markdown",
   "metadata": {},
   "source": [
    "# TECHNICAL WALKTHROUGH \n",
    "\n",
    "\n",
    "## OVERVIEW\n",
    "\n",
    "**SKIP TO BOTTOM FOR FULL RESULTS & GRAPH BREAKDOWN **\n",
    "\n",
    "- Pulls live tweets from all over twitter \n",
    "- Imports Tweepy Library \n",
    "- Consumes Twitter API \n",
    "- Desgined to be keyword driven\n",
    "- All metrics can be captured\n",
    "- No limit on Runtime (best to terminate when you want)\n",
    "\n",
    "## Limitations & info\n",
    "1. LOCATION filter is tricky\n",
    "2. Streaming connects to the “public streams” (all public data) \n",
    "3. This is data provided by the Twitter API which accesses their database, the maintenence of DB and thus data quality is managed by Twitter\n",
    "\n",
    "Example of parameter setting done in stream filter \n",
    "\n",
    "```\n",
    "stream.filter(follow=[\"2211149702\"])\n",
    "```\n",
    "\n",
    "\n",
    "### AUTHOR : ADAM MCMURCHIE \n",
    "\n",
    "![image](https://s3.amazonaws.com/re-work-production/avatars/1104/original.png?1485507466)\n",
    "\n",
    "Github [here](https://github.com/murchie85)  \n",
    "\n",
    "Mysite [here](https://murchie85.github.io/)"
   ]
  },
  {
   "cell_type": "markdown",
   "metadata": {},
   "source": [
    "# AUTHENTICATION\n",
    "\n",
    "You will need to change f variable to point to your credentials file, I save mines in a text file and split the comma. Not uploaded to this repo obviously."
   ]
  },
  {
   "cell_type": "code",
   "execution_count": 14,
   "metadata": {},
   "outputs": [],
   "source": [
    "import datetime\n",
    "import os\n",
    "from ipywidgets import IntProgress\n",
    "from IPython.display import display\n",
    "from IPython.display import clear_output\n",
    "import time\n",
    "import sys\n",
    "# Import the necessary package to process data in JSON format\n",
    "try:\n",
    "    import json\n",
    "except ImportError:\n",
    "    import simplejson as json\n",
    "\n",
    "# Import the tweepy library\n",
    "import tweepy\n",
    "\n",
    "\n",
    "\n",
    "\n",
    "f = open(\"../donotgit/access.txt\", \"r\")\n",
    "keys = f.read()\n",
    "f.close()\n",
    "keys  = keys.split(',')\n",
    "#print(\"Access Keys are : \" + str(keys))\n",
    "ACCESS_TOKEN = keys[0]\n",
    "ACCESS_SECRET = keys[1]\n",
    "\n",
    "\n",
    "f = open(\"../donotgit/consumer.txt\", \"r\")\n",
    "keys = f.read()\n",
    "keys  = keys.split(',')\n",
    "#print(\"Consumer Keys are : \" + str(keys))\n",
    "CONSUMER_KEY = keys[0]\n",
    "CONSUMER_SECRET = keys[1]\n"
   ]
  },
  {
   "cell_type": "markdown",
   "metadata": {},
   "source": [
    "# TOPIC & SCANTYPE SELECTION\n",
    "\n",
    "1. Select which topic you wish to scan for (You can use # or most special characters). \n",
    "2. Scantype means you can chose between pulling in tweets as they happen or pull down historical tweets so you can view things like number of retweets (as if it is realtime, there wont have been time for retweet)"
   ]
  },
  {
   "cell_type": "code",
   "execution_count": 12,
   "metadata": {},
   "outputs": [],
   "source": [
    "TOPIC = 'Trump'\n",
    "\n",
    "# Realtime = 1 Historical = 2\n",
    "scantype = 2"
   ]
  },
  {
   "cell_type": "markdown",
   "metadata": {},
   "source": [
    "# PULLING DOWN THE DATA \n",
    "\n",
    "This is where the magic happens, api authentication is set up, tweepy library is imported for the work and a class allow us to pull live data. This is appended to array for processing later. \n",
    "\n",
    "\n",
    "*NOTE* -   this will just keep running until you force terminate, i haven't added in a terminate loop yet."
   ]
  },
  {
   "cell_type": "markdown",
   "metadata": {},
   "source": [
    "# REALTIME TWEETS"
   ]
  },
  {
   "cell_type": "code",
   "execution_count": 15,
   "metadata": {},
   "outputs": [
    {
     "ename": "RuntimeError",
     "evalue": "No active exception to reraise",
     "output_type": "error",
     "traceback": [
      "\u001b[0;31m---------------------------------------------------------------------------\u001b[0m",
      "\u001b[0;31mRuntimeError\u001b[0m                              Traceback (most recent call last)",
      "\u001b[0;32m<ipython-input-15-40078c51b918>\u001b[0m in \u001b[0;36m<module>\u001b[0;34m\u001b[0m\n\u001b[1;32m      1\u001b[0m \u001b[0;32mif\u001b[0m \u001b[0mscantype\u001b[0m \u001b[0;34m!=\u001b[0m \u001b[0;36m1\u001b[0m\u001b[0;34m:\u001b[0m\u001b[0;34m\u001b[0m\u001b[0;34m\u001b[0m\u001b[0m\n\u001b[0;32m----> 2\u001b[0;31m     \u001b[0;32mraise\u001b[0m\u001b[0;34m\u001b[0m\u001b[0;34m\u001b[0m\u001b[0m\n\u001b[0m\u001b[1;32m      3\u001b[0m \u001b[0;34m\u001b[0m\u001b[0m\n\u001b[1;32m      4\u001b[0m \u001b[0;34m\u001b[0m\u001b[0m\n\u001b[1;32m      5\u001b[0m \u001b[0;31m# Variables that contains the user credentials to access Twitter API\u001b[0m\u001b[0;34m\u001b[0m\u001b[0;34m\u001b[0m\u001b[0;34m\u001b[0m\u001b[0m\n",
      "\u001b[0;31mRuntimeError\u001b[0m: No active exception to reraise"
     ]
    }
   ],
   "source": [
    "if scantype != 1:\n",
    "    raise\n",
    "\n",
    "\n",
    "# Variables that contains the user credentials to access Twitter API \n",
    "# Captured earlier \n",
    "\n",
    "# Setup tweepy to authenticate with Twitter credentials:\n",
    "\n",
    "auth = tweepy.OAuthHandler(CONSUMER_KEY, CONSUMER_SECRET)\n",
    "auth.set_access_token(ACCESS_TOKEN, ACCESS_SECRET)\n",
    "\n",
    "# Create the api to connect to twitter with your creadentials\n",
    "api = tweepy.API(auth, wait_on_rate_limit=True, wait_on_rate_limit_notify=True, compression=True)\n",
    "\n",
    "status_array = []\n",
    "\n",
    "progress = 0\n",
    "max_count = 10000\n",
    "\n",
    "f = IntProgress(description='Processing:',min=0, max=max_count,) # instantiate the bar\n",
    "display(f) # display the bar\n",
    "\n",
    "\n",
    "\n",
    "\n",
    "class StreamListener(tweepy.StreamListener):\n",
    "    tweet_number=0   # class variable\n",
    "    \n",
    "\n",
    "\n",
    "    def on_status(self, status):\n",
    "        self.max_tweets=max_count # max number of tweets\n",
    "        self.tweet_number+=1   \n",
    "        f.value += 1 # signal to increment the progress bar\n",
    "        progress = (f.value/max_count) * 100\n",
    "        progress = format(progress, '.2f')\n",
    "        print('Progress: ' + str(progress) + \" %\")\n",
    "        clear_output(wait=True)\n",
    "        status_array.append(status._json)\n",
    "\n",
    "        if self.tweet_number>=self.max_tweets:\n",
    "            sys.exit('PROCESSING COMPLETE : '+str(self.max_tweets)+' tweets processed.')\n",
    "\n",
    "        \n",
    "    def on_error(self, status_code):\n",
    "        if status_code == 420:\n",
    "            return False\n",
    "\n",
    "stream_listener = StreamListener()\n",
    "stream = tweepy.Stream(auth=api.auth, listener=stream_listener)\n",
    "\n",
    "#print('Pulling down data.....')\n",
    "stream.filter(track=[TOPIC],languages=[\"en\"])\n",
    "\n",
    "\n"
   ]
  },
  {
   "cell_type": "markdown",
   "metadata": {},
   "source": [
    "# HISTORICAL TWEETS"
   ]
  },
  {
   "cell_type": "code",
   "execution_count": 16,
   "metadata": {
    "scrolled": true
   },
   "outputs": [
    {
     "ename": "KeyboardInterrupt",
     "evalue": "",
     "output_type": "error",
     "traceback": [
      "\u001b[0;31m---------------------------------------------------------------------------\u001b[0m",
      "\u001b[0;31mKeyboardInterrupt\u001b[0m                         Traceback (most recent call last)",
      "\u001b[0;32m<ipython-input-16-d4e4bf5aab40>\u001b[0m in \u001b[0;36m<module>\u001b[0;34m\u001b[0m\n\u001b[1;32m     44\u001b[0m     \u001b[0mprint\u001b[0m\u001b[0;34m(\u001b[0m\u001b[0;34m'Progress: '\u001b[0m \u001b[0;34m+\u001b[0m \u001b[0mstr\u001b[0m\u001b[0;34m(\u001b[0m\u001b[0mprogress\u001b[0m\u001b[0;34m)\u001b[0m \u001b[0;34m+\u001b[0m \u001b[0;34m\" %\"\u001b[0m\u001b[0;34m)\u001b[0m\u001b[0;34m\u001b[0m\u001b[0;34m\u001b[0m\u001b[0m\n\u001b[1;32m     45\u001b[0m     \u001b[0mclear_output\u001b[0m\u001b[0;34m(\u001b[0m\u001b[0mwait\u001b[0m\u001b[0;34m=\u001b[0m\u001b[0;32mTrue\u001b[0m\u001b[0;34m)\u001b[0m\u001b[0;34m\u001b[0m\u001b[0;34m\u001b[0m\u001b[0m\n\u001b[0;32m---> 46\u001b[0;31m     \u001b[0mtime\u001b[0m\u001b[0;34m.\u001b[0m\u001b[0msleep\u001b[0m\u001b[0;34m(\u001b[0m\u001b[0;36m.1\u001b[0m\u001b[0;34m)\u001b[0m\u001b[0;34m\u001b[0m\u001b[0;34m\u001b[0m\u001b[0m\n\u001b[0m\u001b[1;32m     47\u001b[0m     \u001b[0mstatus_array\u001b[0m\u001b[0;34m.\u001b[0m\u001b[0mappend\u001b[0m\u001b[0;34m(\u001b[0m\u001b[0mtweet\u001b[0m\u001b[0;34m.\u001b[0m\u001b[0m_json\u001b[0m\u001b[0;34m)\u001b[0m\u001b[0;34m\u001b[0m\u001b[0;34m\u001b[0m\u001b[0m\n\u001b[1;32m     48\u001b[0m \u001b[0;34m\u001b[0m\u001b[0m\n",
      "\u001b[0;31mKeyboardInterrupt\u001b[0m: "
     ]
    }
   ],
   "source": [
    "# HISTORICAL DATA SWITCHED OFF (IF YOU SWITCH ON, THEN SWITCH STREAM OFF ABOVE)\n",
    "\n",
    "if scantype != 2:\n",
    "    raise\n",
    "\n",
    "\n",
    "# Variables that contains the user credentials to access Twitter API \n",
    "# Captured earlier \n",
    "\n",
    "# Setup tweepy to authenticate with Twitter credentials:\n",
    "\n",
    "auth = tweepy.OAuthHandler(CONSUMER_KEY, CONSUMER_SECRET)\n",
    "auth.set_access_token(ACCESS_TOKEN, ACCESS_SECRET)\n",
    "\n",
    "# Create the api to connect to twitter with your creadentials\n",
    "api = tweepy.API(auth, wait_on_rate_limit=True, wait_on_rate_limit_notify=True, compression=True)\n",
    "\n",
    "\n",
    "\n",
    "\n",
    "\n",
    "\n",
    "\n",
    "\n",
    "\n",
    "status_array = []\n",
    "LOOP_COUNT = 0\n",
    "max_count = 100000\n",
    "\n",
    "\n",
    "# ------ENTER YOUR SERACH TERM HER E--------\n",
    "tweets = tweepy.Cursor(api.search, q=TOPIC, count=int(max_count))\n",
    "\n",
    "# TRACK PROGRESS\n",
    "f = IntProgress(min=0, max=max_count) # instantiate the bar\n",
    "display(f) # display the bar\n",
    "progress = 0\n",
    "\n",
    "print('Pulling down data.....')                    \n",
    "for tweet in tweets.items(int(max_count)):\n",
    "    f.value+=1 # signal to increment the progress bar\n",
    "    progress = (f.value/max_count) * 100\n",
    "    progress = format(progress, '.2f')\n",
    "    print('Progress: ' + str(progress) + \" %\")\n",
    "    clear_output(wait=True)\n",
    "    time.sleep(.1)\n",
    "    status_array.append(tweet._json)\n",
    "\n",
    "\n",
    "\n",
    "print('Processing complete')\n",
    "\n"
   ]
  },
  {
   "cell_type": "markdown",
   "metadata": {},
   "source": [
    "# QUICK STREAM"
   ]
  },
  {
   "cell_type": "code",
   "execution_count": 6,
   "metadata": {},
   "outputs": [
    {
     "name": "stdout",
     "output_type": "stream",
     "text": [
      "Number of records\n",
      "10000\n",
      "\n",
      "The data keys are : \n",
      "dict_keys(['created_at', 'id', 'id_str', 'text', 'source', 'truncated', 'in_reply_to_status_id', 'in_reply_to_status_id_str', 'in_reply_to_user_id', 'in_reply_to_user_id_str', 'in_reply_to_screen_name', 'user', 'geo', 'coordinates', 'place', 'contributors', 'retweeted_status', 'quoted_status_id', 'quoted_status_id_str', 'quoted_status', 'quoted_status_permalink', 'is_quote_status', 'quote_count', 'reply_count', 'retweet_count', 'favorite_count', 'entities', 'favorited', 'retweeted', 'filter_level', 'lang', 'timestamp_ms'])\n",
      "\n"
     ]
    }
   ],
   "source": [
    "print('Number of records')\n",
    "print(len(status_array))\n",
    "print('')\n",
    "print('The data keys are : ')\n",
    "print(status_array[0].keys())\n",
    "print('')\n",
    "#print('An example element looks like: ')\n",
    "#print(status_array[0])"
   ]
  },
  {
   "cell_type": "markdown",
   "metadata": {},
   "source": [
    "# REPORT GENERATION\n",
    "\n",
    "**REMOVE** quotes to switch on reporting, you may need to create the folders listed below i.e. data folder description folder etc."
   ]
  },
  {
   "cell_type": "code",
   "execution_count": null,
   "metadata": {
    "collapsed": true,
    "scrolled": true
   },
   "outputs": [],
   "source": [
    "# REMOVE QUOTES TO ACTIVATE \n",
    "# append to filename\n",
    "\"\"\"\n",
    "currentDT = datetime.datetime.now()\n",
    "filename = \"data/streamout-\" + str(currentDT) + \".txt\"\n",
    "\n",
    "print(filename)\n",
    "\n",
    "with open(filename, 'w') as f:\n",
    "    for item in status_array:\n",
    "        f.write(\"%s\\n\" % item)\n",
    "f.close()\n",
    "\n",
    "\n",
    "# WRITE OUT FULL REPORT\n",
    "reportfile = \"reports/printout-\"+ str(currentDT) + \".txt\"\n",
    "descriptionfile = \"data/description/printout-\"+ str(currentDT) + \".txt\"\n",
    "tweetfile = \"data/tweet/printout-\"+ str(currentDT) + \".txt\"\n",
    "\n",
    "REPORTCOUNT = 0\n",
    "with open(reportfile, 'w') as f:\n",
    "    for y in range(0, len(status_array)):\n",
    "        REPORTCOUNT = REPORTCOUNT + 1\n",
    "        f.write('************************************************************\\n')\n",
    "        f.write(status_array[y]['text'])\n",
    "        f.write('------------------------------\\n')\n",
    "        f.write(status_array[y]['created_at'])\n",
    "        f.write('------------------------------\\n')\n",
    "        f.write(status_array[y]['user']['name'])\n",
    "        f.write('------------------------------\\n')\n",
    "        f.write(str(status_array[y]['user']['location']))\n",
    "        f.write('------------------------------\\n')\n",
    "        f.write(str(status_array[y]['user']['description']))\n",
    "        f.write('--------------REPLY COUNT----------------\\n|')\n",
    "        f.write(str(status_array[y]['reply_count']))\n",
    "        f.write('--------------RETWEET COUNT----------------\\n')\n",
    "        f.write(str(status_array[y]['retweet_count']))\n",
    "        f.write('--------------RETWEETED?----------------\\n')\n",
    "        f.write(str(status_array[y]['retweeted']))\n",
    "        f.write('--------------RETWEET COUNT----------------\\n')\n",
    "        f.write(str(status_array[y]['retweet_count']))\n",
    "        f.write('--------------FAVOURITED----------------\\n')\n",
    "        f.write(str(status_array[y]['favorited']))\n",
    "        f.write('--------------FAVOURITE COUNT----------------\\n')\n",
    "        f.write(str(status_array[y]['favorite_count']))\n",
    "        f.write('\\n')\n",
    "        f.write('\\n')\n",
    "    f.write('number of records are : ')\n",
    "    f.write(str(REPORTCOUNT))\n",
    "        \n",
    "f.close()\n",
    "    \n",
    "    \n",
    "# WRITE OUT ONLY DESCRIPTION\n",
    "    \n",
    "REPORTCOUNT = 0\n",
    "with open(descriptionfile, 'w') as f:\n",
    "    for y in range(0, len(status_array)):\n",
    "        REPORTCOUNT = REPORTCOUNT + 1\n",
    "        f.write('************************************************************\\n')\n",
    "        f.write(str(status_array[y]['user']['description']))\n",
    "        f.write('\\n')\n",
    "    f.write('number of records are : ')\n",
    "    f.write(str(REPORTCOUNT))\n",
    "        \n",
    "f.close()\n",
    "    \n",
    "\n",
    "# WRITE OUT ONLY TWEET\n",
    "    \n",
    "REPORTCOUNT = 0\n",
    "with open(tweetfile, 'w') as f:\n",
    "    for y in range(0, len(status_array)):\n",
    "        REPORTCOUNT = REPORTCOUNT + 1\n",
    "        f.write('************************************************************\\n')\n",
    "        f.write(status_array[y]['text'])\n",
    "        f.write('\\n')\n",
    "    f.write('number of records are : ')\n",
    "    f.write(str(REPORTCOUNT))\n",
    "        \n",
    "f.close()\n",
    "\n",
    "    \n",
    "    \n",
    "    \n",
    "    \n",
    "    \n",
    "print('=========================SAMPLE OUTPUT================================')\n",
    "print('************************************************************')\n",
    "print(status_array[0]['text'])\n",
    "print('------------------------------')\n",
    "print(status_array[0]['created_at'])\n",
    "print('------------------------------')\n",
    "print(status_array[0]['user']['name'])\n",
    "print('------------------------------')\n",
    "print(status_array[0]['user']['location'])\n",
    "print('------------------------------')\n",
    "print(status_array[0]['user']['description'])\n",
    "print('--------------REPLY COUNT----------------')\n",
    "print(status_array[0]['reply_count'])\n",
    "print('--------------RETWEET COUNT----------------')\n",
    "print(status_array[0]['retweet_count'])\n",
    "print('--------------RETWEETED?----------------') \n",
    "print(status_array[0]['retweeted'])\n",
    "print('--------------RETWEET COUNT----------------')\n",
    "print(status_array[0]['retweet_count'])\n",
    "print('--------------FAVOURITED----------------')\n",
    "print(status_array[0]['favorited'])\n",
    "print('--------------FAVOURITE COUNT----------------')\n",
    "print(status_array[0]['favorite_count'])\n",
    "\"\"\"\n"
   ]
  },
  {
   "cell_type": "markdown",
   "metadata": {},
   "source": [
    "## TWEET NUMERICAL ANALYSIS\n",
    "\n",
    "Change the below values to see how they rank in tweet frequency,  **YOU DON'T NEED TO WORRY ABOUT CASE SENSITIVITY IN WORDING**, that is covered in the code.\n",
    "\n",
    "```\n",
    "WORDONE=''\n",
    "WORDTWO=''\n",
    "WORDTHREE=''\n",
    "```"
   ]
  },
  {
   "cell_type": "code",
   "execution_count": 30,
   "metadata": {
    "scrolled": false
   },
   "outputs": [
    {
     "name": "stdout",
     "output_type": "stream",
     "text": [
      "Total count of words - MILITARY :151               1.51%\n",
      "Total count of words - SAUDI :2              1.51%\n",
      "Total count of words - PELOSI :129           1.29%\n",
      "Total count of words - RUSSIA :725             7.25%\n",
      "Total count of words - IMPEACHMENT :412             4.12%\n",
      "Total count of words - PENCE :20               0.2%\n",
      "Total count of words - RUSSIA :725            7.25%\n",
      "Total count of words - SANDERS :42           0.42%\n",
      "Total count of words - BIDEN :58             0.58%\n",
      "Total count of words - OBAMA :184               1.84%\n",
      "Total Number of Records: 10000\n",
      "\n",
      "Length of appended text array : 1245920\n",
      "\n",
      "OrderedDict([('MUELLER', 860), ('RUSSIA', 551), ('IMPEACHMENT', 461), ('MCCAIN', 396), ('PEOPLE', 354), ('@FUNDER:', 350), ('@REALDONALDTRUMP', 337), ('JOHN', 316), ('NEW', 314), ('READY', 285), ('FIGHT', 272), ('TIME', 270), ('NEVER', 269), ('REPUBLICANS', 267), ('FLY', 265), ('HOUSE', 263), ('WIN!”', 261), ('US', 259), ('2020', 245), ('WHITE', 241)])\n"
     ]
    }
   ],
   "source": [
    "# UPDATE WITH WORDS YOU WANT TO INTERROGATE\n",
    "WORDONE='TERM'\n",
    "WORDTWO='TERM'\n",
    "WORDTHREE='TERM'\n",
    "WORDFOUR = 'TERM'\n",
    "WORDFIVE = 'TERM'\n",
    "WORDSIX = 'TERM'\n",
    "WORDSEVEN = 'TERM'\n",
    "WORDEIGHT = 'TERM'\n",
    "WORDNINE = 'TERM'\n",
    "WORDTEN = 'TERM'\n",
    "\n",
    "\n",
    "\n",
    "\n",
    "WORDONE= WORDONE.upper()\n",
    "WORDTWO= WORDTWO.upper()\n",
    "WORDTHREE=WORDTHREE.upper()\n",
    "WORDFOUR = WORDFOUR.upper()\n",
    "WORDFIVE = WORDFIVE.upper()\n",
    "WORDSIX = WORDSIX.upper()\n",
    "WORDSEVEN = WORDSEVEN.upper()\n",
    "WORDEIGHT = WORDEIGHT.upper()\n",
    "WORDNINE = WORDNINE.upper()\n",
    "WORDTEN = WORDTEN.upper()\n",
    "\n",
    "\n",
    "\n",
    "\n",
    "\n",
    "\n",
    "WORDONE_COUNT = 0\n",
    "WORDTWO_COUNT = 0 \n",
    "WORDTHREE_COUNT = 0 \n",
    "WORDFOUR_COUNT = 0\n",
    "WORDFIVE_COUNT = 0\n",
    "WORDSIX_COUNT = 0\n",
    "WORDSEVEN_COUNT= 0\n",
    "WORDEIGHT_COUNT= 0\n",
    "WORDNINE_COUNT = 0\n",
    "WORDTEN_COUNT = 0\n",
    "\n",
    "\n",
    "\n",
    "\n",
    "linecount = 0\n",
    "APPENDED_TEXT = \"\"\n",
    "\n",
    "\n",
    "\n",
    "for x in range(0, len(status_array)):\n",
    "    linecount = linecount + 1\n",
    "    text = str(status_array[x]['text']).upper()\n",
    "    APPENDED_TEXT = APPENDED_TEXT + str(text)\n",
    "    \n",
    "    \n",
    "    if str(text).count(str(WORDONE)) >= 1:\n",
    "        WORDONE_COUNT = WORDONE_COUNT + 1\n",
    "    if str(text).count(str(WORDTWO)) >= 1:\n",
    "        WORDTWO_COUNT = WORDTWO_COUNT + 1\n",
    "    if str(text).count(str(WORDTHREE)) >= 1:\n",
    "        WORDTHREE_COUNT = WORDTHREE_COUNT + 1\n",
    "    if str(text).count(str(WORDFOUR)) >= 1:\n",
    "        WORDFOUR_COUNT = WORDFOUR_COUNT + 1\n",
    "    if str(text).count(str(WORDFIVE)) >= 1:\n",
    "        WORDFIVE_COUNT = WORDFIVE_COUNT + 1\n",
    "    if str(text).count(str(WORDSIX)) >= 1:\n",
    "        WORDSIX_COUNT = WORDSIX_COUNT + 1\n",
    "    if str(text).count(str(WORDSEVEN)) >= 1:\n",
    "        WORDSEVEN_COUNT = WORDSEVEN_COUNT + 1\n",
    "    if str(text).count(str(WORDEIGHT)) >= 1:\n",
    "        WORDEIGHT_COUNT = WORDEIGHT_COUNT + 1\n",
    "    if str(text).count(str(WORDNINE)) >= 1:\n",
    "        WORDNINE_COUNT = WORDNINE_COUNT + 1\n",
    "    if str(text).count(str(WORDTEN)) >= 1:\n",
    "        WORDTEN_COUNT = WORDTEN_COUNT + 1\n",
    "\n",
    "      \n",
    " \n",
    "\n",
    "\n",
    "WORDONE_COUNT_PERCENT = round(((WORDONE_COUNT/len(status_array))*100),2)\n",
    "WORDTWO_COUNT_PERCENT  = round(((WORDONE_COUNT/len(status_array))*100),2)\n",
    "WORDTHREE_COUNT_PERCENT  = round(((WORDTHREE_COUNT/len(status_array))*100),2)\n",
    "WORDFOUR_COUNT_PERCENT  = round(((WORDFOUR_COUNT/len(status_array))*100),2)\n",
    "WORDFIVE_COUNT_PERCENT  = round(((WORDFIVE_COUNT/len(status_array))*100),2)\n",
    "WORDSIX_COUNT_PERCENT  = round(((WORDSIX_COUNT/len(status_array))*100),2)\n",
    "WORDSEVEN_COUNT_PERCENT  = round(((WORDSEVEN_COUNT/len(status_array))*100),2)\n",
    "WORDEIGHT_COUNT_PERCENT  = round(((WORDEIGHT_COUNT/len(status_array))*100),2)\n",
    "WORDNINE_COUNT_PERCENT  = round(((WORDNINE_COUNT/len(status_array))*100),2)\n",
    "WORDTEN_COUNT_PERCENT  = round(((WORDTEN_COUNT/len(status_array))*100),2)\n",
    "        \n",
    "print('Total count of words - ' + str(WORDONE) + ' :' + str(WORDONE_COUNT) + \"               \" + str(WORDONE_COUNT_PERCENT) + \"%\")\n",
    "print('Total count of words - ' + str(WORDTWO) + ' :' + str(WORDTWO_COUNT) + \"              \" + str(WORDTWO_COUNT_PERCENT)+ \"%\")\n",
    "print('Total count of words - ' + str(WORDTHREE) + ' :' + str(WORDTHREE_COUNT) + \"           \" + str(WORDTHREE_COUNT_PERCENT)+ \"%\")\n",
    "print('Total count of words - ' + str(WORDFOUR) + ' :' + str(WORDFOUR_COUNT) + \"             \" + str(WORDFOUR_COUNT_PERCENT)+ \"%\")\n",
    "print('Total count of words - ' + str(WORDFIVE) + ' :' + str(WORDFIVE_COUNT) + \"             \" + str(WORDFIVE_COUNT_PERCENT)+ \"%\")\n",
    "print('Total count of words - ' + str(WORDSIX) + ' :' + str(WORDSIX_COUNT) + \"               \" + str(WORDSIX_COUNT_PERCENT)+ \"%\")\n",
    "print('Total count of words - ' + str(WORDSEVEN) + ' :' + str(WORDSEVEN_COUNT) + \"            \" + str(WORDSEVEN_COUNT_PERCENT)+ \"%\")\n",
    "print('Total count of words - ' + str(WORDEIGHT) + ' :' + str(WORDEIGHT_COUNT) + \"           \" + str(WORDEIGHT_COUNT_PERCENT)+ \"%\")\n",
    "print('Total count of words - ' + str(WORDNINE) + ' :' + str(WORDNINE_COUNT) + \"             \" + str(WORDNINE_COUNT_PERCENT)+ \"%\")\n",
    "print('Total count of words - ' + str(WORDTEN) + ' :' + str(WORDTEN_COUNT) + \"               \" + str(WORDTEN_COUNT_PERCENT)+ \"%\")\n",
    "print('Total Number of Records: ' + str(linecount)) \n",
    "\n",
    "\n",
    "APPENDED_TEXT = APPENDED_TEXT.replace('#', '')\n",
    "APPENDED_TEXT = APPENDED_TEXT.replace('.', '')\n",
    "APPENDED_TEXT = APPENDED_TEXT.replace(',', '')\n",
    "APPENDED_TEXT = APPENDED_TEXT.replace(',', '')\n",
    "\n",
    "\n",
    "\n",
    "print('')\n",
    "\n",
    "print(\"Length of appended text array : \" + str(len(APPENDED_TEXT)))\n",
    "\n",
    "print('')\n",
    "from collections import Counter, OrderedDict\n",
    "DISC = APPENDED_TEXT.split()\n",
    "x = Counter(DISC)\n",
    "del x['⠀'],x['AND'],x['THE'],x['OF'],x['TO'],x['A'],x['IN'],x['&'],x['MY'],x['FOR'],x['I'],x['NOT'],x['IS'],x['ARE']\n",
    "del x['WITH'],x['ALL'],x['ON'],x['-'],x['YOU'],x['BY'],x['IT'],x['NO'],x['OR'],x['OWN'],x['THAT'],x['AT'],x['BE'],x['|'],x['WILL'],\n",
    "del x['BUT'],x['AN'],x['ABOUT'],x['AS'],x['FROM'],x['WHO'],x['ME'],x['WE'],x['HAVE'],x['OUR'],x['AM'],x['LIKE'],x['JUST']\n",
    "del x['THIS'],x['THEY'],x['IF'],x['HAS'],x['&AMP'],x['HAS'],x['CAN'],x['NOW'],x['SO'],x['ONLY'],x['WAS'],x['WHAT'],x['THEIR'],x['YOUR'],x['WOULD']\n",
    "del x['DO'],x['&AMP;'],x['ONE'],x['WANT'],x['BEEN'],x['THEM'],x['MORE'],x['TODAY'],x['GET'],x['WHEN'],x['COMMENT'],x['HER'],x['SHE'],x['FURTHER']\n",
    "del x['HE'],x['HIS'],x['OUT'],x['HOW'],x['BECAUSE'],x['HIM'],x['WHY'],x['THINK'],x[\"IT'S\"],x['TAKE'],x['OVER'],x[''],x[''],\n",
    "del x['END'], x['ALSO'],x['SINCE'],x['END'],x['THAT'],x['UP'],x['IT’S'],x['SEE'],x['KNOW'],x['SHOULD'],x['HAD'],x['SAYS'],x['SAID'],x['DID'],x['—'],x['EVERY']\n",
    "del x['YOU'],x['J'],x['WERE'],x['THERE'],x['“YOU'],\n",
    "\n",
    "\n",
    "\n",
    "#SPECIAL DELETE \n",
    "del x['PRESIDENT'],x['TRUMP'],x['DONALD'],x[\"TRUMP'S\"],x['TRUMP’S']\n",
    "\n",
    "large_top_tweets = OrderedDict(x.most_common(50))\n",
    "top_tweets = OrderedDict(x.most_common(20))\n",
    "print(top_tweets)\n",
    "\n",
    "\n"
   ]
  },
  {
   "cell_type": "code",
   "execution_count": 31,
   "metadata": {},
   "outputs": [
    {
     "data": {
      "image/png": "[encoded data removed]",
      "text/plain": [
       "<Figure size 1440x720 with 1 Axes>"
      ]
     },
     "metadata": {
      "needs_background": "light"
     },
     "output_type": "display_data"
    }
   ],
   "source": [
    "import os\n",
    "import matplotlib.pyplot as plt\n",
    "\n",
    "E = top_tweets\n",
    "one = (0.1, 0.1, 0.1, 0.1)\n",
    "two = (0.1, 0.1, 0.1, 0.1)\n",
    "three = (0.1, 0.1, 0.1, 0.1)\n",
    "four= (0.1, 0.1, 0.1, 0.1)\n",
    "five= (0.1, 0.1, 0.1, 0.1)\n",
    "six= (0.1, 0.1, 0.1, 0.1)\n",
    "seven= (0.1, 0.1, 0.1, 0.1)\n",
    "eight= (0.1, 0.1, 0.1, 0.1)\n",
    "nine= (0.1, 0.1, 0.1, 0.1)\n",
    "ten= (0.1, 0.1, 0.1, 0.1)\n",
    "eleven= (0.1, 0.1, 0.1, 0.1)\n",
    "twelve= (0.1, 0.1, 0.1, 0.1)\n",
    "thirteen= (0.1, 0.1, 0.1, 0.1)\n",
    "fourteen= (0.1, 0.1, 0.1, 0.1)\n",
    "fithteen= (0.1, 0.1, 0.1, 0.1)\n",
    "sixteen= (0.1, 0.1, 0.1, 0.1)\n",
    "seventeen= (0.1, 0.1, 0.1, 0.1)\n",
    "eighteen= (0.1, 0.1, 0.1, 0.1)\n",
    "nineteen= (0.1, 0.1, 0.1, 0.1)\n",
    "twenty= (0.1, 0.1, 0.1, 0.1)\n",
    "\n",
    "\n",
    "\n",
    "color_last = [one, two,three,four,five,six,seven,eight,nine,ten,eleven,twelve,thirteen,fourteen,fithteen,sixteen,seventeen,eighteen,nineteen,twenty]\n",
    "color = (0.1, 0.1, 0.1, 0.1)\n",
    "plt.bar(range(len(E)), list(E.values()), align='center', color=color_last,  edgecolor='blue')\n",
    "\n",
    "plt.xticks(range(len(E)), list(E.keys()), rotation='vertical', fontsize=20)\n",
    "plt.title(\"Most Frequently Tweeted Words\", fontsize=30)\n",
    "plt.ylabel('Number of Occurrences (thousands)', fontsize=20 )\n",
    "plt.xlabel('Tweeted term by Frequency', horizontalalignment='left', position=(0,25),fontsize=18)\n",
    "plt.rcParams[\"figure.figsize\"] = (20,10)\n",
    "os.remove(\"TWEETS.png\")\n",
    "plt.savefig(\"TWEETS\", bbox_inches=\"tight\")\n",
    "plt.show()\n"
   ]
  },
  {
   "cell_type": "markdown",
   "metadata": {},
   "source": [
    "# TWEET COMPARISON"
   ]
  },
  {
   "cell_type": "code",
   "execution_count": 32,
   "metadata": {},
   "outputs": [
    {
     "data": {
      "image/png": "[encoded data removed]",
      "text/plain": [
       "<Figure size 1440x720 with 1 Axes>"
      ]
     },
     "metadata": {
      "needs_background": "light"
     },
     "output_type": "display_data"
    }
   ],
   "source": [
    "import matplotlib.pyplot as plt\n",
    "B = {str(WORDONE):int(WORDONE_COUNT), \n",
    "     str(WORDTWO):int(WORDTWO_COUNT),\n",
    "    str(WORDTHREE):int(WORDTHREE_COUNT),\n",
    "    str(WORDFOUR):int(WORDFOUR_COUNT),\n",
    "    str(WORDFIVE):int(WORDFIVE_COUNT)}\n",
    "\n",
    "\n",
    "\n",
    "plt.bar(range(len(B)), list(B.values()), align='center', alpha=0.5, color=('#ff8c66'),  edgecolor='blue')\n",
    "\n",
    "plt.xticks(range(len(B)), list(B.keys()), rotation='horizontal', fontsize=20)\n",
    "plt.title(\"Tweet Popular Tweet Word Comparison\", fontsize=30)\n",
    "plt.ylabel('Number of Occurrences (thousands)', fontsize=18)\n",
    "#plt.xlabel('These are the words in which Tweeters describe themselves', horizontalalignment='left', position=(0,25), fontsize=18)\n",
    "plt.rcParams[\"figure.figsize\"] = (20,10)\n",
    "#plt.savefig(\"BESPOKE\", bbox_inches=\"tight\")\n",
    "os.remove(\"comparetweets.png\")\n",
    "\n",
    "plt.savefig(\"comparetweets\")\n",
    "plt.show()"
   ]
  },
  {
   "cell_type": "markdown",
   "metadata": {},
   "source": [
    "## USER DESCRIPTION NUMERICAL ANALYSIS\n",
    "\n",
    "Change the below values to see how they rank in tweet frequency **YOU DON'T NEED TO WORRY ABOUT CASE SENSITIVITY IN WORDING**, that is covered in the code."
   ]
  },
  {
   "cell_type": "code",
   "execution_count": 36,
   "metadata": {},
   "outputs": [
    {
     "name": "stdout",
     "output_type": "stream",
     "text": [
      "Total count of words - DEMOCRAT :310\n",
      "Total count of words - MAGA :1116\n",
      "Total count of words - REPUBLICAN :108\n",
      "Total count of words - TRUMP :1479\n",
      "Total count of words - RESIST :1341\n",
      "Total count of words - LIBERAL :299\n",
      "Total count of words - CONSERVATIVE :476\n",
      "Total count of words - AFRICAN :3\n",
      "Total count of words - GUNS :44\n",
      "Total count of words -   :7842\n",
      "Total Number of Records: 10000\n",
      "\n",
      "OrderedDict([('TRUMP', 662), ('MAGA', 643), ('LOVE', 607), ('PROUD', 389), ('RESIST', 381), ('CONSERVATIVE', 320), ('LOVER', 287), ('LIFE', 260), ('GOD', 249), ('PRESIDENT', 243), ('POLITICS', 239), ('KAG', 239), ('COUNTRY', 237), ('FOLLOW', 229), ('MOM', 229), ('FAN', 229), ('AMERICAN', 223), ('MOTHER', 210), ('FAMILY', 208), ('WIFE', 208)])\n"
     ]
    }
   ],
   "source": [
    "# UPDATE WITH WORDS YOU WANT TO INTERROGATE\n",
    "\n",
    "WORDONE='TERM'\n",
    "WORDTWO='TERM'\n",
    "WORDTHREE='TERM'\n",
    "WORDFOUR = 'TERM'\n",
    "WORDFIVE = 'TERM'\n",
    "WORDSIX = 'TERM'\n",
    "WORDSEVEN = 'TERM'\n",
    "WORDEIGHT = 'TERM'\n",
    "WORDNINE = 'TERM'\n",
    "WORDTEN = 'TERM'\n",
    "\n",
    "\n",
    "\n",
    "\n",
    "WORDONE= WORDONE.upper()\n",
    "WORDTWO= WORDTWO.upper()\n",
    "WORDTHREE=WORDTHREE.upper()\n",
    "WORDFOUR = WORDFOUR.upper()\n",
    "WORDFIVE = WORDFIVE.upper()\n",
    "WORDSIX = WORDSIX.upper()\n",
    "WORDSEVEN = WORDSEVEN.upper()\n",
    "WORDEIGHT = WORDEIGHT.upper()\n",
    "WORDNINE = WORDNINE.upper()\n",
    "WORDTEN = WORDTEN.upper()\n",
    "\n",
    "\n",
    "\n",
    "\n",
    "\n",
    "\n",
    "WORDONE_COUNT = 0\n",
    "WORDTWO_COUNT = 0 \n",
    "WORDTHREE_COUNT = 0 \n",
    "WORDFOUR_COUNT = 0\n",
    "WORDFIVE_COUNT = 0\n",
    "WORDSIX_COUNT = 0\n",
    "WORDSEVEN_COUNT= 0\n",
    "WORDEIGHT_COUNT= 0\n",
    "WORDNINE_COUNT = 0\n",
    "WORDTEN_COUNT = 0\n",
    "\n",
    "\n",
    "linecount = 0\n",
    "APPENDED_DESCRIPTION = \"\"\n",
    "\n",
    "\n",
    "\n",
    "for x in range(0, len(status_array)):\n",
    "    linecount = linecount + 1\n",
    "    description = str(status_array[x]['user']['description']).upper()\n",
    "    APPENDED_DESCRIPTION = APPENDED_DESCRIPTION + str(description)\n",
    "    \n",
    "    \n",
    "    if str(description).count(str(WORDONE)) >= 1:\n",
    "        WORDONE_COUNT = WORDONE_COUNT + 1\n",
    "    if str(description).count(str(WORDTWO)) >= 1:\n",
    "        WORDTWO_COUNT = WORDTWO_COUNT + 1\n",
    "    if str(description).count(str(WORDTHREE)) >= 1:\n",
    "        WORDTHREE_COUNT = WORDTHREE_COUNT + 1\n",
    "    if str(description).count(str(WORDFOUR)) >= 1:\n",
    "        WORDFOUR_COUNT = WORDFOUR_COUNT + 1\n",
    "    if str(description).count(str(WORDFIVE)) >= 1:\n",
    "        WORDFIVE_COUNT = WORDFIVE_COUNT + 1\n",
    "    if str(description).count(str(WORDSIX)) >= 1:\n",
    "        WORDSIX_COUNT = WORDSIX_COUNT + 1\n",
    "    if str(description).count(str(WORDSEVEN)) >= 1:\n",
    "        WORDSEVEN_COUNT = WORDSEVEN_COUNT + 1\n",
    "    if str(description).count(str(WORDEIGHT)) >= 1:\n",
    "        WORDEIGHT_COUNT = WORDEIGHT_COUNT + 1\n",
    "    if str(description).count(str(WORDNINE)) >= 1:\n",
    "        WORDNINE_COUNT = WORDNINE_COUNT + 1\n",
    "    if str(description).count(str(WORDTEN)) >= 1:\n",
    "        WORDTEN_COUNT = WORDTEN_COUNT + 1\n",
    "\n",
    "      \n",
    "      \n",
    "        \n",
    "print('Total count of words - ' + str(WORDONE) + ' :' + str(WORDONE_COUNT))\n",
    "print('Total count of words - ' + str(WORDTWO) + ' :' + str(WORDTWO_COUNT))\n",
    "print('Total count of words - ' + str(WORDTHREE) + ' :' + str(WORDTHREE_COUNT))\n",
    "print('Total count of words - ' + str(WORDFOUR) + ' :' + str(WORDFOUR_COUNT))\n",
    "print('Total count of words - ' + str(WORDFIVE) + ' :' + str(WORDFIVE_COUNT))\n",
    "print('Total count of words - ' + str(WORDSIX) + ' :' + str(WORDSIX_COUNT))\n",
    "print('Total count of words - ' + str(WORDSEVEN) + ' :' + str(WORDSEVEN_COUNT))\n",
    "print('Total count of words - ' + str(WORDEIGHT) + ' :' + str(WORDEIGHT_COUNT))\n",
    "print('Total count of words - ' + str(WORDNINE) + ' :' + str(WORDNINE_COUNT))\n",
    "print('Total count of words - ' + str(WORDTEN) + ' :' + str(WORDTEN_COUNT))\n",
    "print('Total Number of Records: ' + str(linecount)) \n",
    "\n",
    "\n",
    "APPENDED_DESCRIPTION = APPENDED_DESCRIPTION.replace('#', '')\n",
    "APPENDED_DESCRIPTION = APPENDED_DESCRIPTION.replace('.', '')\n",
    "APPENDED_DESCRIPTION = APPENDED_DESCRIPTION.replace(',', '')\n",
    "APPENDED_DESCRIPTION = APPENDED_DESCRIPTION.replace(',', '')\n",
    "\n",
    "\n",
    "\n",
    "\n",
    "from collections import Counter, OrderedDict\n",
    "DISC = APPENDED_DESCRIPTION.split()\n",
    "x = Counter(DISC)\n",
    "del x['⠀'],x['AND'],x['THE'],x['OF'],x['TO'],x['A'],x['IN'],x['&'],x['MY'],x['FOR'],x['I'],x['NOT'],x['IS'],x['ARE']\n",
    "del x['WITH'],x['ALL'],x['ON'],x['-'],x['YOU'],x['BY'],x['IT'],x['NO'],x['OR'],x['OWN'],x['THAT'],x['AT'],x['BE'],x['|'],x['WILL'],\n",
    "del x['BUT'],x['AN'],x['ABOUT'],x['AS'],x['FROM'],x['WHO'],x['ME'],x['WE'],x['HAVE'],x['OUR'],x['AM'],x['LIKE'],x['JUST']\n",
    "del x['THIS'],x['THEY'],x['IF'],x['HAS'],x['&AMP'],x['HAS'],x['CAN'],x['NOW'],x['SO'],x['ONLY'],x['WAS'],x['WHAT'],x['THEIR'],x['YOUR'],x['WOULD']\n",
    "del x['DO'],x['&AMP;'],x['ONE'],x['WANT'],x['BEEN'],x['THEM'],x['MORE'],x['/'],x['•'],x[\"I'M\"],x[''],x['']\n",
    "\n",
    "large_bio_desc = OrderedDict(x.most_common(50))\n",
    "top_bio_desc = OrderedDict(x.most_common(20))\n",
    "print('')\n",
    "print(top_bio_desc)\n"
   ]
  },
  {
   "cell_type": "markdown",
   "metadata": {},
   "source": [
    "## BIO TERM COMPARISON"
   ]
  },
  {
   "cell_type": "code",
   "execution_count": 39,
   "metadata": {
    "scrolled": false
   },
   "outputs": [
    {
     "data": {
      "image/png": "[encoded data removed]",
      "text/plain": [
       "<Figure size 1440x720 with 1 Axes>"
      ]
     },
     "metadata": {
      "needs_background": "light"
     },
     "output_type": "display_data"
    }
   ],
   "source": [
    "import matplotlib.pyplot as plt\n",
    "B = {str(WORDONE):int(WORDONE_COUNT), \n",
    "     str(WORDTWO):int(WORDTWO_COUNT),\n",
    "    str(WORDTHREE):int(WORDTHREE_COUNT),\n",
    "    str(WORDFOUR):int(WORDFOUR_COUNT),\n",
    "    str(WORDFIVE):int(WORDFIVE_COUNT)}\n",
    "\n",
    "\n",
    "\n",
    "plt.bar(range(len(B)), list(B.values()), align='center', alpha=0.5, color=('#ff8c66'),  edgecolor='blue')\n",
    "\n",
    "plt.xticks(range(len(B)), list(B.keys()), rotation='horizontal')\n",
    "plt.title(\"Tweeters Bio - Most popular Self Description\", fontsize=30)\n",
    "plt.ylabel('Number of Occurrences (thousands)', fontsize=18)\n",
    "#plt.xlabel('These are the words in which Tweeters describe themselves', horizontalalignment='left', position=(0,25), fontsize=18)\n",
    "plt.rcParams[\"figure.figsize\"] = (20,10)\n",
    "#plt.savefig(\"BESPOKE\", bbox_inches=\"tight\")\n",
    "os.remove(\"COMPARE.png\")\n",
    "plt.savefig(\"COMPARE\")\n",
    "plt.show()"
   ]
  },
  {
   "cell_type": "code",
   "execution_count": 57,
   "metadata": {},
   "outputs": [
    {
     "data": {
      "image/png": "[encoded data removed]",
      "text/plain": [
       "<Figure size 1440x720 with 1 Axes>"
      ]
     },
     "metadata": {
      "needs_background": "light"
     },
     "output_type": "display_data"
    }
   ],
   "source": [
    "import matplotlib.pyplot as plt\n",
    "\n",
    "D = top_bio_desc\n",
    "\n",
    "plt.bar(range(len(D)), list(D.values()), align='center', color=(0.1, 0.5, 1, 0.1),  edgecolor='blue')\n",
    "\n",
    "plt.xticks(range(len(D)), list(D.keys()), rotation='vertical', fontsize=20)\n",
    "plt.title(\"Tweeters Bio - Most popular Self Description\", fontsize=30)\n",
    "plt.ylabel('Number of Occurrences (thousands)', fontsize=18)\n",
    "plt.xlabel('These are the words in which Tweeters describe themselves', horizontalalignment='left', position=(0,25), fontsize=18)\n",
    "plt.rcParams[\"figure.figsize\"] = (20,10)\n",
    "os.remove(\"BIO.png\")\n",
    "plt.savefig(\"BIO\", bbox_inches=\"tight\")\n",
    "plt.show()"
   ]
  },
  {
   "cell_type": "markdown",
   "metadata": {
    "collapsed": true
   },
   "source": [
    "# SENTIMENT ANALYSIS \n",
    "\n",
    "The sentiment property returns a named tuple of the form Sentiment (polarity, subjectivity). The polarity score is a float within the range [-1.0, 1.0]. The subjectivity is a float within the range [0.0, 1.0] where 0.0 is very objective and 1.0 is very subjective.\n",
    "\n",
    "# Now the Theory\n",
    "Thanks to Siraj Raval and freecode camp for the sample here\n",
    "\n",
    "TextBlob\n",
    "TextBlob is a Python (2 and 3) library for processing textual data. It provides a simple API for diving into common natural language processing (NLP) tasks such as part-of-speech tagging, noun phrase extraction, sentiment analysis, classification, translation, and more.\n",
    "\n",
    "A textblob can be created in the following way (example, and not part of the original code):\n",
    "\n",
    "example = TextBlob(\"Python is a high-level, general-purpose programming language.\")\n",
    "And tokenization can be performed by the following methods:\n",
    "words: returns the words of text\n",
    "\n",
    "usage:\n",
    "\n",
    "example.words\n",
    "sentences: returns the sentences of text\n",
    "\n",
    "usage:\n",
    "\n",
    "example.sentences\n"
   ]
  },
  {
   "cell_type": "code",
   "execution_count": 40,
   "metadata": {},
   "outputs": [],
   "source": [
    "from textblob import TextBlob\n",
    "import tweepy\n",
    "\n",
    "VALUE = 'Trump'\n",
    "\n",
    "auth = tweepy.OAuthHandler(CONSUMER_KEY, CONSUMER_SECRET)\n",
    "auth.set_access_token(ACCESS_TOKEN, ACCESS_SECRET)\n",
    "api = tweepy.API(auth)"
   ]
  },
  {
   "cell_type": "code",
   "execution_count": 41,
   "metadata": {},
   "outputs": [],
   "source": [
    "public_tweets = api.search(VALUE)"
   ]
  },
  {
   "cell_type": "code",
   "execution_count": 42,
   "metadata": {},
   "outputs": [
    {
     "name": "stdout",
     "output_type": "stream",
     "text": [
      "RT @WayneDupreeShow: Pope Francis Says He's Willing To Tell Trump \"In Person\" It's Wrong To Build Border Wall \n",
      "\n",
      "I am sure the Pope has to l…\n",
      "Sentiment(polarity=0.08333333333333333, subjectivity=0.8462962962962962)\n",
      "Subjective\n",
      "\n",
      "\n",
      "RT @nytimes: President Trump acknowledged for the first time Russia \"helping me to get elected\" https://t.co/QsHKDdbHiP\n",
      "Sentiment(polarity=0.25, subjectivity=0.3333333333333333)\n",
      "Subjective\n",
      "\n",
      "\n",
      "@brianstelter Must be a heavy burden to be the arbiters of truth. The all knowing, all seeing, all caring @CNN is o… https://t.co/DpxVxDD28P\n",
      "Sentiment(polarity=-0.2, subjectivity=0.5)\n",
      "Negatively subjective\n",
      "\n",
      "\n",
      "RT @brianschatz: Trump Administration Rebrands Carbon Dioxide As \"Molecules Of U.S. Freedom\"  https://t.co/mTKZiLpGoB\n",
      "Sentiment(polarity=0.0, subjectivity=0.0)\n",
      "objective\n",
      "\n",
      "\n",
      "RT @ananavarro: Trump’s biggest accomplishment will be he obstructed justice and committed impeachable offenses and with help of a complici…\n",
      "Sentiment(polarity=0.0, subjectivity=0.0)\n",
      "objective\n",
      "\n",
      "\n",
      "RT @kylegriffin1: Paul Manafort's Trump Tower condo has been formally forfeited to the U.S. government, The Hill reports.\n",
      "\n",
      "The government a…\n",
      "Sentiment(polarity=0.0, subjectivity=0.0)\n",
      "objective\n",
      "\n",
      "\n",
      "RT @kayleighmcenany: “Now it’s time to turn to the origins of the Russia hoax and get to the bottom of why the Trump campaign was spied on…\n",
      "Sentiment(polarity=0.0, subjectivity=0.0)\n",
      "objective\n",
      "\n",
      "\n",
      "RT @dcpoll: “The fatal blow to Trump's fragile state may have come from the words on the bottom of the screen on his network of choice Fox…\n",
      "Sentiment(polarity=0.0, subjectivity=0.5)\n",
      "objective\n",
      "\n",
      "\n",
      "RT @funder: Chairwoman Maxine Waters: Trump should resign and 'free us' from impeachment proceedings. Absolutely. #TrumpResignNOW\n",
      "Sentiment(polarity=0.30000000000000004, subjectivity=0.8500000000000001)\n",
      "Subjective\n",
      "\n",
      "\n",
      "RT @STUinSD: 5. We also have been waiting impatiently for at least two more DoJ reports: an OIG report on FISA abuse and the AG’s report on…\n",
      "Sentiment(polarity=0.0, subjectivity=0.6)\n",
      "objective\n",
      "\n",
      "\n",
      "Trump says not involved with keeping McCain ship out of view https://t.co/3zHbymbZ7t\n",
      "Sentiment(polarity=0.0, subjectivity=0.0)\n",
      "objective\n",
      "\n",
      "\n",
      "objective_tweets : 7\n",
      "subjective_tweets : 3\n",
      "negitively_subjective tweets: 1\n"
     ]
    }
   ],
   "source": [
    "objective_tweet=0\n",
    "subjective_tweet=0\n",
    "negitively_subjective=0\n",
    "for tweet in public_tweets:\n",
    "    print(tweet.text)\n",
    "    analysis = TextBlob(tweet.text)\n",
    "    print(analysis.sentiment)\n",
    "    if analysis.sentiment[0]>0:\n",
    "       subjective_tweet = subjective_tweet + 1\n",
    "       print('Subjective')\n",
    "    elif analysis.sentiment[0]<0:\n",
    "       negitively_subjective = negitively_subjective  + 1\n",
    "       print('Negatively subjective')\n",
    "    else:\n",
    "       objective_tweet = objective_tweet + 1\n",
    "       print('objective')\n",
    "    print('\\n')\n",
    "    \n",
    "print('objective_tweets : '+str(objective_tweet))\n",
    "print('subjective_tweets : '+str(subjective_tweet))\n",
    "print('negitively_subjective tweets: '+str(negitively_subjective))"
   ]
  },
  {
   "cell_type": "markdown",
   "metadata": {
    "collapsed": true
   },
   "source": [
    "# SAMPLE"
   ]
  },
  {
   "cell_type": "code",
   "execution_count": 43,
   "metadata": {},
   "outputs": [
    {
     "data": {
      "text/plain": [
       "'RT @RitaKonaev: Brought to you by the people who berate kneeling NFL players for “disrespecting the troops.” https://t.co/ArCtOQ1Dk7'"
      ]
     },
     "execution_count": 43,
     "metadata": {},
     "output_type": "execute_result"
    }
   ],
   "source": [
    "status_array[2000]['text']"
   ]
  },
  {
   "cell_type": "markdown",
   "metadata": {},
   "source": [
    "# MOST REFERENCED PEOPLE"
   ]
  },
  {
   "cell_type": "code",
   "execution_count": 44,
   "metadata": {},
   "outputs": [
    {
     "name": "stdout",
     "output_type": "stream",
     "text": [
      "Number of times users were quoted :11566\n",
      "Most quoted users are : OrderedDict([('realDonaldTrump', 451), ('funder', 368), ('WhiteHouse', 248), ('CNN', 108), ('RepAdamSchiff', 103)])\n",
      "\n"
     ]
    }
   ],
   "source": [
    "quote_count = 0\n",
    "quoted_users = []\n",
    "\n",
    "# USING FOLLOWING REDUCES TO ONLY IF QUOTED if status_array[current]['is_quote_status'] == True: \n",
    "\n",
    "for current in range(0, len(status_array)):\n",
    "    \"\"\"If quoted, then check mentions and append mention screen names to array\"\"\"\n",
    "    \n",
    "    if status_array[current]['entities']['user_mentions'] is not None:\n",
    "        for y in range(0, len(status_array[current]['entities']['user_mentions'])):\n",
    "            quoted_users.append(status_array[current]['entities']['user_mentions'][y]['screen_name'])\n",
    "\n",
    "                \n",
    "print(\"Number of times users were quoted :\" + str(len(quoted_users)))\n",
    "       \n",
    "quoteCounter = Counter(quoted_users)\n",
    "quoteCounted = OrderedDict(quoteCounter.most_common(5))\n",
    "\n",
    "\n",
    "print(\"Most quoted users are : \" + str(quoteCounted) + \"\\n\")   \n",
    "    \n",
    "reference_items = list(quoteCounted.items())\n",
    "\n"
   ]
  },
  {
   "cell_type": "markdown",
   "metadata": {
    "collapsed": true
   },
   "source": [
    "# GOOGLE TRENDS "
   ]
  },
  {
   "cell_type": "code",
   "execution_count": 45,
   "metadata": {},
   "outputs": [
    {
     "data": {
      "text/plain": [
       "\"\\nimport csv\\nimport matplotlib.pyplot as plt; plt.rcdefaults()\\nimport numpy as np\\nimport matplotlib.pyplot as plt\\n\\nwith open('multiTimeline.csv', newline='') as csvfile:\\n    data = list(csv.reader(csvfile))\\ngoogle =data[3:]\\n\\ndates = []\\nvalues = []\\nfor x in range(0, len(google)):\\n    dates.append(str(google[x][0]))\\n    values.append(google[x][1])\\n    \\n\\n\\n\\ny_pos = np.arange(len(dates))\\n\\n\\nplt.scatter(dates, values)\\n\\nplt.title('Google Trend Over time')\\nplt.ylabel('Popularity as % of Max')\\nplt.xticks(y_pos, dates, fontsize=10, rotation=30)\\nplt.locator_params(axis='x', nbins=6)\\nplt.locator_params(axis='Y', nbins=6)\\n\\nplt.show()\\n\""
      ]
     },
     "execution_count": 45,
     "metadata": {},
     "output_type": "execute_result"
    }
   ],
   "source": [
    "\"\"\"\n",
    "import csv\n",
    "import matplotlib.pyplot as plt; plt.rcdefaults()\n",
    "import numpy as np\n",
    "import matplotlib.pyplot as plt\n",
    "\n",
    "with open('multiTimeline.csv', newline='') as csvfile:\n",
    "    data = list(csv.reader(csvfile))\n",
    "google =data[3:]\n",
    "\n",
    "dates = []\n",
    "values = []\n",
    "for x in range(0, len(google)):\n",
    "    dates.append(str(google[x][0]))\n",
    "    values.append(google[x][1])\n",
    "    \n",
    "\n",
    "\n",
    "\n",
    "y_pos = np.arange(len(dates))\n",
    "\n",
    "\n",
    "plt.scatter(dates, values)\n",
    "\n",
    "plt.title('Google Trend Over time')\n",
    "plt.ylabel('Popularity as % of Max')\n",
    "plt.xticks(y_pos, dates, fontsize=10, rotation=30)\n",
    "plt.locator_params(axis='x', nbins=6)\n",
    "plt.locator_params(axis='Y', nbins=6)\n",
    "\n",
    "plt.show()\n",
    "\"\"\""
   ]
  },
  {
   "cell_type": "code",
   "execution_count": 46,
   "metadata": {},
   "outputs": [
    {
     "data": {
      "text/plain": [
       "'\\nimport csv\\nimport matplotlib.pyplot as plt; plt.rcdefaults()\\nimport numpy as np\\nimport matplotlib.pyplot as plt\\n\\nwith open(\\'geoMap.csv\\', newline=\\'\\') as csvfile:\\n    data = list(csv.reader(csvfile))\\ngoogle =data[3:]\\n\\nplaces = []\\nvalues = []\\nfor x in range(0, len(google)):\\n    places.append(str(google[x][0]))\\n    values.append(google[x][1])\\n    \\nplaces = places[0:5]\\nvalues = values[0:5]\\n\\n# this is for plotting purpose\\nindex = np.arange(len(places))\\nplt.barh(index, values)\\nplt.ylabel(\\'District\\', fontsize=10)\\nplt.xlabel(\\'Proportion Index\\', fontsize=10)\\nplt.yticks(index, places, fontsize=10, rotation=0)\\nplt.title(\\'Interest by subregion\\')\\nplt.savefig(\"gcompare\")\\nplt.show()\\n\\n'"
      ]
     },
     "execution_count": 46,
     "metadata": {},
     "output_type": "execute_result"
    }
   ],
   "source": [
    "\"\"\"\n",
    "import csv\n",
    "import matplotlib.pyplot as plt; plt.rcdefaults()\n",
    "import numpy as np\n",
    "import matplotlib.pyplot as plt\n",
    "\n",
    "with open('geoMap.csv', newline='') as csvfile:\n",
    "    data = list(csv.reader(csvfile))\n",
    "google =data[3:]\n",
    "\n",
    "places = []\n",
    "values = []\n",
    "for x in range(0, len(google)):\n",
    "    places.append(str(google[x][0]))\n",
    "    values.append(google[x][1])\n",
    "    \n",
    "places = places[0:5]\n",
    "values = values[0:5]\n",
    "\n",
    "# this is for plotting purpose\n",
    "index = np.arange(len(places))\n",
    "plt.barh(index, values)\n",
    "plt.ylabel('District', fontsize=10)\n",
    "plt.xlabel('Proportion Index', fontsize=10)\n",
    "plt.yticks(index, places, fontsize=10, rotation=0)\n",
    "plt.title('Interest by subregion')\n",
    "plt.savefig(\"gcompare\")\n",
    "plt.show()\n",
    "\n",
    "\"\"\""
   ]
  },
  {
   "cell_type": "markdown",
   "metadata": {},
   "source": [
    "# SCAN A TWEET FOR A GIVEN BIO "
   ]
  },
  {
   "cell_type": "code",
   "execution_count": 47,
   "metadata": {},
   "outputs": [
    {
     "name": "stdout",
     "output_type": "stream",
     "text": [
      "Number of matching tweets: 3\n",
      "Top 50 terms in their tweets: OrderedDict([('TRUMP', 3), ('BORIS', 3), ('JOHNSON', 3), ('NIGEL', 3), ('DONALD', 2), ('MEET', 2), ('FARAGE', 2), ('HE', 2), ('RT', 1), ('@BBCPOLITICS:', 1), (\"'MAY'\", 1), ('HTTPS://T.CO/QGTEPRZIAGRT', 1), ('@THETIMES:', 1), ('PRESIDENT', 1), ('PRAISED', 1), ('TWO', 1), ('“BIG', 1), ('POWERS”', 1), ('BRITAIN', 1), ('CONGRATULATED', 1), ('BREXIT', 1), ('PARTY…RT', 1), ('@PAULMER51:', 1), ('J', 1), ('UPSET', 1), ('ESTABLISHMENT', 1), ('AGAIN.', 1), ('SAID', 1), ('WANTS', 1), ('HIS', 1), ('FRIENDS', 1), ('FARAGE.', 1), ('WEL…', 1)])\n"
     ]
    }
   ],
   "source": [
    "from collections import Counter, OrderedDict\n",
    "#PICK ONE \n",
    "\n",
    "CHOSEN_BIO_WORD = 'UKIP'\n",
    "\n",
    "\n",
    "CHOSEN_BIO_WORD = CHOSEN_BIO_WORD.upper()\n",
    "\n",
    "\n",
    "TARGETARRAY = []\n",
    "TARGETTWEET = \"\"\n",
    "linecount = 0\n",
    "for x in range(0, len(status_array)):\n",
    "    text = str(status_array[x]['text']).upper()\n",
    "    description = str(status_array[x]['user']['description']).upper()\n",
    "   \n",
    "    if str(description).count(str(CHOSEN_BIO_WORD)) >= 1:\n",
    "        TARGETARRAY.append(status_array[x])\n",
    "        TARGETTWEET = TARGETTWEET +  str(status_array[x]['text']).upper()\n",
    "\n",
    "\n",
    "\n",
    "DISC = TARGETTWEET.split()\n",
    "x = Counter(DISC)\n",
    "del x['⠀'],x['AND'],x['THE'],x['OF'],x['TO'],x['A'],x['IN'],x['&'],x['MY'],x['FOR'],x['I'],x['NOT'],x['IS'],x['ARE']\n",
    "del x['WITH'],x['ALL'],x['ON'],x['-'],x['YOU'],x['BY'],x['IT'],x['NO'],x['OR'],x['OWN'],x['THAT'],x['AT'],x['BE'],x['|'],x['WILL'],\n",
    "del x['BUT'],x['AN'],x['ABOUT'],x['AS'],x['FROM'],x['WHO'],x['ME'],x['WE'],x['HAVE'],x['OUR'],x['AM'],x['LIKE'],x['JUST']\n",
    "del x['THIS'],x['THEY'],x['IF'],x['HAS'],x['&AMP'],x['HAS'],x['CAN'],x['NOW'],x['SO'],x['ONLY'],x['WAS'],x['WHAT'],x['THEIR'],x['YOUR'],x['WOULD']\n",
    "del x['DO'],x['&AMP;'],x['ONE'],x['WANT'],x['BEEN'],x['THEM'],x['MORE'],x['/'],x['•'],x[\"I'M\"],x[''],x['']\n",
    "\n",
    "refinedTWEETS = OrderedDict(x.most_common(50))\n",
    "print(\"Number of matching tweets: \" + str(len(TARGETARRAY)))\n",
    "print(\"Top 50 terms in their tweets: \" + str(refinedTWEETS))"
   ]
  },
  {
   "cell_type": "markdown",
   "metadata": {},
   "source": [
    "# SCAN BIO FOR GIVEN TWEET"
   ]
  },
  {
   "cell_type": "code",
   "execution_count": 48,
   "metadata": {},
   "outputs": [
    {
     "name": "stdout",
     "output_type": "stream",
     "text": [
      "Number of matching tweets: 0\n",
      "Top 50 terms in their bio: OrderedDict()\n"
     ]
    }
   ],
   "source": [
    "from collections import Counter, OrderedDict\n",
    "#PICK ONE \n",
    "\n",
    "CHOSEN_TWEET_WORD = 'UKIP'\n",
    "\n",
    "\n",
    "CHOSEN_TWEET_WORD = CHOSEN_TWEET_WORD.upper()\n",
    "\n",
    "\n",
    "TARGETARRAY = []\n",
    "TARGETBIO = \"\"\n",
    "linecount = 0\n",
    "for x in range(0, len(status_array)):\n",
    "    text = str(status_array[x]['text']).upper()\n",
    "    description = str(status_array[x]['user']['description']).upper()\n",
    "   \n",
    "    if str(text).count(str(CHOSEN_TWEET_WORD)) >= 1:\n",
    "        TARGETARRAY.append(status_array[x])\n",
    "        TARGETBIO = TARGETBIO + str(status_array[x]['user']['description']).upper()\n",
    "\n",
    "\n",
    "\n",
    "DISC = TARGETBIO.split()\n",
    "x = Counter(DISC)\n",
    "del x['⠀'],x['AND'],x['THE'],x['OF'],x['TO'],x['A'],x['IN'],x['&'],x['MY'],x['FOR'],x['I'],x['NOT'],x['IS'],x['ARE']\n",
    "del x['WITH'],x['ALL'],x['ON'],x['-'],x['YOU'],x['BY'],x['IT'],x['NO'],x['OR'],x['OWN'],x['THAT'],x['AT'],x['BE'],x['|'],x['WILL'],\n",
    "del x['BUT'],x['AN'],x['ABOUT'],x['AS'],x['FROM'],x['WHO'],x['ME'],x['WE'],x['HAVE'],x['OUR'],x['AM'],x['LIKE'],x['JUST']\n",
    "del x['THIS'],x['THEY'],x['IF'],x['HAS'],x['&AMP'],x['HAS'],x['CAN'],x['NOW'],x['SO'],x['ONLY'],x['WAS'],x['WHAT'],x['THEIR'],x['YOUR'],x['WOULD']\n",
    "del x['DO'],x['&AMP;'],x['ONE'],x['WANT'],x['BEEN'],x['THEM'],x['MORE'],x['/'],x['•'],x[\"I'M\"],x[''],x['']\n",
    "\n",
    "refinedBio = OrderedDict(x.most_common(50))\n",
    "print(\"Number of matching tweets: \" + str(len(TARGETARRAY)))\n",
    "print(\"Top 50 terms in their bio: \" + str(refinedBio))"
   ]
  },
  {
   "cell_type": "markdown",
   "metadata": {},
   "source": [
    "# LINK BIO AND TWEET"
   ]
  },
  {
   "cell_type": "code",
   "execution_count": 49,
   "metadata": {},
   "outputs": [
    {
     "name": "stdout",
     "output_type": "stream",
     "text": [
      "OrderedDict([('MUELLER', 860), ('RUSSIA', 551), ('IMPEACHMENT', 461), ('MCCAIN', 396), ('PEOPLE', 354), ('@FUNDER:', 350), ('@REALDONALDTRUMP', 337), ('JOHN', 316), ('NEW', 314), ('READY', 285), ('FIGHT', 272), ('TIME', 270), ('NEVER', 269), ('REPUBLICANS', 267), ('FLY', 265), ('HOUSE', 263), ('WIN!”', 261), ('US', 259), ('2020', 245), ('WHITE', 241), ('ADMINISTRATION', 239), ('NOTHING', 233), ('FORCE', 227), ('LAW', 225), ('REPORT', 225), ('@WHITEHOUSE:', 222), ('AIR', 210), ('UNITED', 209), ('HILLARY', 207), ('BREAKING:', 206), ('LIES', 204), ('RESIGN', 203), ('CENSUS', 202), ('BARR', 200), ('AFTER', 198), ('THAN', 196), ('EVIDENCE', 196), ('ROBERT', 195), ('HERE', 192), ('CLEAR', 192), ('HELPED', 189), ('FEDERAL', 188), ('SAY', 188), ('THEN', 186), ('HELPING', 185), ('HAND', 184), ('MEXICO', 177), ('AGAINST', 177), ('\"I', 176), ('STATES', 175)])\n",
      "\n",
      "bio\n",
      "OrderedDict([('TRUMP', 662), ('MAGA', 643), ('LOVE', 607), ('PROUD', 389), ('RESIST', 381), ('CONSERVATIVE', 320), ('LOVER', 287), ('LIFE', 260), ('GOD', 249), ('PRESIDENT', 243), ('POLITICS', 239), ('KAG', 239), ('COUNTRY', 237), ('FOLLOW', 229), ('MOM', 229), ('FAN', 229), ('AMERICAN', 223), ('MOTHER', 210), ('FAMILY', 208), ('WIFE', 208), ('THERESISTANCE', 203), ('LIBERAL', 202), ('US', 201), ('AMERICA', 193), (\"DON'T\", 188), ('PATRIOT', 182), ('RESISTANCE', 179), ('PEOPLE', 177), ('🇺🇸', 176), ('CHRISTIAN', 175), ('MARRIED', 173), ('SUPPORTER', 172), ('NEWS', 171), ('2A', 171), ('TRUTH', 170), ('RETIRED', 169), ('TIME', 167), ('WORLD', 161), ('NRA', 156), ('SUPPORT', 156), ('POLITICAL', 154), ('VETERAN', 149), ('MUSIC', 149), ('WWG1WGA', 146), ('2', 144), ('FATHER', 143), ('ANIMAL', 142), ('ARMY', 139), ('MEMBER', 136), ('BACK', 136)])\n"
     ]
    }
   ],
   "source": [
    "print(large_top_tweets)\n",
    "print(\"\")\n",
    "print(\"bio\")\n",
    "print(large_bio_desc)"
   ]
  },
  {
   "cell_type": "code",
   "execution_count": 50,
   "metadata": {},
   "outputs": [
    {
     "name": "stdout",
     "output_type": "stream",
     "text": [
      "No of matches : 0.01%\n",
      "RT @thetimes: President Trump has praised Boris Johnson and Nigel Farage as two “big powers” in Britain and congratulated the Brexit Party…\n",
      "\n",
      "Bio: \n",
      "#ForBritain #BritainFirst #BrexitParty #TommyRobinson #UKIP #DonaldTrump ANTI-SOCIALIST, Ch4 BBC MSM, EU, GLOBALISTS, MULTICULTURAL INVASION, JIHADISTS, RAPISTS\n"
     ]
    }
   ],
   "source": [
    "#PICK TWO OR \n",
    "\n",
    "CHOSEN_WORD_ONE = 'Brexit'\n",
    "BIO_CHOSEN_WORD_ONE = 'UKIP'\n",
    "\n",
    "\n",
    "\n",
    "CHOSEN_WORD_ONE = CHOSEN_WORD_ONE.upper()\n",
    "BIO_CHOSEN_WORD_ONE = BIO_CHOSEN_WORD_ONE.upper()\n",
    "\n",
    "\n",
    "\n",
    "\n",
    "TARGETARRAY = []\n",
    "linecount = 0\n",
    "for x in range(0, len(status_array)):\n",
    "    text = str(status_array[x]['text']).upper()\n",
    "    description = str(status_array[x]['user']['description']).upper()\n",
    "   \n",
    "    if str(text).count(str(CHOSEN_WORD_ONE)) >= 1 and str(description).count(str(BIO_CHOSEN_WORD_ONE)) >= 1:\n",
    "        TARGETARRAY.append(status_array[x])\n",
    "\n",
    "\n",
    "match_percentage =  (len(TARGETARRAY)/len(status_array)) * 100\n",
    "match_percentage = round(match_percentage,2)\n",
    "print(\"No of matches : \" + str(match_percentage) + \"%\" )    \n",
    "print(TARGETARRAY[0]['text'])\n",
    "print(\"\")\n",
    "print('Bio: ')\n",
    "print(TARGETARRAY[0]['user']['description'])"
   ]
  },
  {
   "cell_type": "code",
   "execution_count": 51,
   "metadata": {},
   "outputs": [
    {
     "data": {
      "text/plain": [
       "'Sun Aug 06 15:52:07 +0000 2017'"
      ]
     },
     "execution_count": 51,
     "metadata": {},
     "output_type": "execute_result"
    }
   ],
   "source": [
    "status_array[1]['user']['created_at']"
   ]
  },
  {
   "cell_type": "markdown",
   "metadata": {},
   "source": [
    "# COUNT NEW USERS    "
   ]
  },
  {
   "cell_type": "code",
   "execution_count": 52,
   "metadata": {
    "scrolled": true
   },
   "outputs": [
    {
     "name": "stdout",
     "output_type": "stream",
     "text": [
      "No of Profiles newer than 10 days are : 0.68%\n"
     ]
    }
   ],
   "source": [
    "import time\n",
    "from datetime import datetime, timedelta\n",
    "present = datetime.now()\n",
    "\n",
    "timerange = 10\n",
    "\n",
    "\n",
    "\n",
    "newcount = 0\n",
    "\n",
    "for x in range(0, len(status_array)):\n",
    "    created_at = time.strftime('%Y-%m-%d %H:%M:%S', time.strptime(status_array[x]['user']['created_at'],'%a %b %d %H:%M:%S +0000 %Y'))\n",
    "    then = datetime.strptime(created_at, \"%Y-%m-%d %H:%M:%S\")\n",
    "    delta = datetime.now() - then\n",
    "    if delta.days < timerange:\n",
    "        newcount = newcount + 1\n",
    "        #print(status_array[x]['user']['created_at'])\n",
    "        #print(created_at)\n",
    "        #print(delta)\n",
    "\n",
    "        \n",
    "percentnewcount = (newcount/len(status_array)) * 100\n",
    "percentnewcount = round(percentnewcount,2)\n",
    "\n",
    "\n",
    "\n",
    "print(\"No of Profiles newer than \" + str(timerange) + \" days are : \" + str(percentnewcount) + \"%\")\n"
   ]
  },
  {
   "cell_type": "markdown",
   "metadata": {},
   "source": [
    "# COUNT FOLLOWERS"
   ]
  },
  {
   "cell_type": "code",
   "execution_count": 53,
   "metadata": {},
   "outputs": [
    {
     "name": "stdout",
     "output_type": "stream",
     "text": [
      "No of people with less than 10 followers :3.03%\n",
      "No of people with more than 1000000 followers :0.06%\n"
     ]
    }
   ],
   "source": [
    "count = 0 \n",
    "maxcount = 0\n",
    "followercount = 10\n",
    "maxfollowercount = 1000000\n",
    "\n",
    "for x in range(0, len(status_array)):\n",
    "    if status_array[x]['user']['followers_count'] < followercount:\n",
    "        count = count + 1 \n",
    "        \n",
    "    if status_array[x]['user']['followers_count'] > maxfollowercount:\n",
    "        maxcount = maxcount + 1 \n",
    "    \n",
    "percentcount = (count / len(status_array)) * 100\n",
    "percentcount = round(percentcount,2)\n",
    "\n",
    "\n",
    "maxpercentcount = (maxcount / len(status_array)) * 100\n",
    "maxpercentcount = round(maxpercentcount,2)\n",
    "\n",
    "print(\"No of people with less than \" + str(followercount) + \" followers :\" + str(percentcount) + \"%\")\n",
    "print(\"No of people with more than \" + str(maxfollowercount) + \" followers :\" + str(maxpercentcount) + \"%\")"
   ]
  },
  {
   "cell_type": "markdown",
   "metadata": {},
   "source": [
    "# METRICS FOR USE"
   ]
  },
  {
   "cell_type": "code",
   "execution_count": 55,
   "metadata": {},
   "outputs": [
    {
     "name": "stdout",
     "output_type": "stream",
     "text": [
      "Sample 1 :RT @piersmorgan: You should know all about Presidential ‘bumlicking’ given how the Blair regime’s revoltingly slavish &amp; sycophantic support…\n",
      "\n",
      "Sample 2 :Are we great enough again?\n",
      "\n",
      "Sample 3 :RT @funder: BREAKING: Republicans just blocked emergency aid funding for Americans for the third time in a week. They’re stalling to try an…\n",
      "\n",
      "#1 Most tweeted to : \n",
      "realDonaldTrump\n",
      "None\n",
      "#2 Most tweeted to : \n",
      "funder\n",
      "None\n",
      "#3 Most tweeted to : \n",
      "WhiteHouse\n",
      "None\n",
      "\n",
      "NewProfiles (less than 10 days) : 0.68%\n",
      "No of people with less than 10 followers :3.03%\n",
      "No of people with more than 1000000 followers :0.06%\n",
      "Printing top tweets\n",
      "\n",
      "OrderedDict([('MUELLER', 860), ('RUSSIA', 551), ('IMPEACHMENT', 461), ('MCCAIN', 396), ('PEOPLE', 354), ('@FUNDER:', 350), ('@REALDONALDTRUMP', 337), ('JOHN', 316), ('NEW', 314), ('READY', 285), ('FIGHT', 272), ('TIME', 270), ('NEVER', 269), ('REPUBLICANS', 267), ('FLY', 265), ('HOUSE', 263), ('WIN!”', 261), ('US', 259), ('2020', 245), ('WHITE', 241)])\n"
     ]
    }
   ],
   "source": [
    "print(\"Sample 1 :\" + str(status_array[1000]['text']) + \"\\n\")\n",
    "print(\"Sample 2 :\" + str(status_array[4000]['text']) + \"\\n\")\n",
    "print(\"Sample 3 :\" + str(status_array[7000]['text']) + \"\\n\")\n",
    "\n",
    "print(\"#1 Most tweeted to : \" )\n",
    "print(str(print(reference_items[0][0])))\n",
    "print(\"#2 Most tweeted to : \" )\n",
    "print(str(print(reference_items[1][0])))\n",
    "print(\"#3 Most tweeted to : \")\n",
    "print(str(print(reference_items[2][0])))\n",
    "print('')\n",
    "\n",
    "print('NewProfiles (less than 10 days) : ' + str(str(percentnewcount)) + \"%\")\n",
    "print(\"No of people with less than \" + str(followercount) + \" followers :\" + str(percentcount) + \"%\")\n",
    "print(\"No of people with more than \" + str(maxfollowercount) + \" followers :\" + str(maxpercentcount) + \"%\")\n",
    "print(\"Printing top tweets\")\n",
    "print('')\n",
    "print(top_tweets)\n"
   ]
  },
  {
   "cell_type": "code",
   "execution_count": null,
   "metadata": {},
   "outputs": [],
   "source": []
  },
  {
   "cell_type": "code",
   "execution_count": null,
   "metadata": {
    "collapsed": true
   },
   "outputs": [],
   "source": []
  }
 ],
 "metadata": {
  "kernelspec": {
   "display_name": "Python 3",
   "language": "python",
   "name": "python3"
  },
  "language_info": {
   "codemirror_mode": {
    "name": "ipython",
    "version": 3
   },
   "file_extension": ".py",
   "mimetype": "text/x-python",
   "name": "python",
   "nbconvert_exporter": "python",
   "pygments_lexer": "ipython3",
   "version": "3.7.3"
  }
 },
 "nbformat": 4,
 "nbformat_minor": 2
}
